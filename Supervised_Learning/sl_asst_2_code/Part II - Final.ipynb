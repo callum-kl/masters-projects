{
 "cells": [
  {
   "cell_type": "code",
   "execution_count": 2,
   "metadata": {},
   "outputs": [
    {
     "data": {
      "text/plain": [
       "'C:\\\\Users\\\\callu\\\\Dropbox\\\\SupervisedLearning\\\\Assignment2\\\\src'"
      ]
     },
     "execution_count": 2,
     "metadata": {},
     "output_type": "execute_result"
    }
   ],
   "source": [
    "import numpy as np\n",
    "import random\n",
    "import pandas as pd\n",
    "import os\n",
    "import itertools\n",
    "import matplotlib.pyplot as plt\n",
    "import time\n",
    "\n",
    "from tqdm import tqdm\n",
    "\n",
    "os.getcwd()"
   ]
  },
  {
   "cell_type": "markdown",
   "metadata": {},
   "source": [
    "# PART II"
   ]
  },
  {
   "cell_type": "markdown",
   "metadata": {},
   "source": [
    "**(a) In this part, you will implement the four classification algorithms and then use them to estimate\n",
    "the sample complexity of these algorithms. Here you will plot m (left axis) versus n (bottom axis). As an illustration I include an example plot of estimated sample complexity for least squares. Please include sample complexity plots for all four all four algorithms.**"
   ]
  },
  {
   "cell_type": "markdown",
   "metadata": {},
   "source": [
    "### Generate data"
   ]
  },
  {
   "cell_type": "code",
   "execution_count": 3,
   "metadata": {},
   "outputs": [],
   "source": [
    "### Generate m patterns x1, . . . ,xm sampled uniformly at random from {−1, 1}^n\n",
    "\n",
    "def sample_data(m,n):\n",
    "    data = np.zeros((m,n))\n",
    "    for i in range(m):\n",
    "        data[i,:] = np.random.choice([-1,1], n)\n",
    "        \n",
    "    return data, data[:,0]"
   ]
  },
  {
   "cell_type": "code",
   "execution_count": 4,
   "metadata": {},
   "outputs": [],
   "source": [
    "### Generate m patterns x1, . . . ,xm sampled uniformly at random from {0, 1}^n\n",
    "\n",
    "def sample_data_winnow(m,n):\n",
    "    data = np.zeros((m,n))\n",
    "    for i in range(m):\n",
    "        data[i,:] = np.random.choice([0,1], n)\n",
    "        \n",
    "    return data, data[:,0]"
   ]
  },
  {
   "cell_type": "code",
   "execution_count": 69,
   "metadata": {},
   "outputs": [],
   "source": [
    "def bound_constant(num_test_points, delta):\n",
    "    return np.sqrt(np.log(1/delta)/(2*num_test_points))"
   ]
  },
  {
   "cell_type": "markdown",
   "metadata": {},
   "source": [
    "## Perceptron algorithm"
   ]
  },
  {
   "cell_type": "code",
   "execution_count": 94,
   "metadata": {},
   "outputs": [],
   "source": [
    "def perceptron(xs,ys):\n",
    "    \n",
    "    m,n = np.shape(xs)\n",
    "    w = np.zeros(n)\n",
    "    M = 0\n",
    "    \n",
    "    for t in range(m):\n",
    "        x_ = xs[t,:]\n",
    "        y_ = ys[t]\n",
    "        y_hat = np.sign(np.dot(w,x_))\n",
    "        \n",
    "        if ((y_*y_hat) <= 0):\n",
    "            w = w + y_*x_\n",
    "            M += 1\n",
    "            \n",
    "    return w, M"
   ]
  },
  {
   "cell_type": "code",
   "execution_count": 95,
   "metadata": {},
   "outputs": [],
   "source": [
    "# find average generalisation error\n",
    "\n",
    "def find_mean_gen_error(m,n, number_of_runs, num_of_test_points):\n",
    "    \n",
    "    gen_error_for_each_run = np.zeros(number_of_runs)\n",
    "    for r in range(number_of_runs):\n",
    "        #print(r)\n",
    "        trainxs, trainys = sample_data(m,n)\n",
    "        testxs, testys = sample_data(num_of_test_points,n)\n",
    "    \n",
    "        w = perceptron(trainxs, trainys)[0]\n",
    "        mistakes = 0\n",
    "        \n",
    "        for i in range(num_of_test_points):\n",
    "            x_ = testxs[i,:]\n",
    "            y_ = testys[i]\n",
    "            y_pred = np.sign(np.dot(w,x_))\n",
    "        \n",
    "            if ((y_*y_pred) <= 0):\n",
    "                mistakes += 1\n",
    "            \n",
    "        gen_error_for_each_run[r] = mistakes/num_of_test_points     #not 2^n because we are only using 1000 not every possible case\n",
    "        \n",
    "    return np.mean(gen_error_for_each_run)\n",
    "               "
   ]
  },
  {
   "cell_type": "code",
   "execution_count": 109,
   "metadata": {},
   "outputs": [],
   "source": [
    "def find_complexity(number_of_runs, num_of_test_points, range_n):\n",
    "    \n",
    "    complexity_for_each_n = np.zeros(np.size(range_n))\n",
    "    count = 0\n",
    "    delta = 0.2\n",
    "    #print(bound_constant(num_of_test_points, delta))\n",
    "    for n in (range_n):\n",
    "        m = 1\n",
    "        gen_error = find_mean_gen_error(m,n,number_of_runs,num_of_test_points)\n",
    "        while (gen_error > 0.1):\n",
    "            #print(test_error)\n",
    "            m += 1\n",
    "            gen_error = find_mean_gen_error(m,n,number_of_runs,num_of_test_points) #+ bound_constant(num_of_test_points, delta)\n",
    "        complexity_for_each_n[count] = m\n",
    "        count += 1\n",
    "        \n",
    "    return complexity_for_each_n"
   ]
  },
  {
   "cell_type": "code",
   "execution_count": 110,
   "metadata": {},
   "outputs": [],
   "source": [
    "def find_average_complexity(n_runs, n_test):\n",
    "    \n",
    "    range_n = range(5, 101)\n",
    "    complexity_list = np.zeros(shape=(n_runs, np.size(range_n)))\n",
    "    \n",
    "    for r in tqdm(range(n_runs)):\n",
    "        f1 = find_complexity(8, n_test, range_n)\n",
    "        complexity_list[r,:] = f1\n",
    "        \n",
    "    return np.mean(complexity_list, axis = 0), np.std(complexity_list, axis = 0)"
   ]
  },
  {
   "cell_type": "code",
   "execution_count": 111,
   "metadata": {},
   "outputs": [
    {
     "name": "stderr",
     "output_type": "stream",
     "text": [
      "\n",
      "\n",
      "\n",
      "\n",
      "\n",
      "  0%|          | 0/20 [00:00<?, ?it/s]\n",
      "\n",
      "\n",
      "\n",
      "\n",
      "  5%|▌         | 1/20 [03:48<1:12:16, 228.25s/it]\n",
      "\n",
      "\n",
      "\n",
      "\n",
      " 10%|█         | 2/20 [07:39<1:08:42, 229.01s/it]\n",
      "\n",
      "\n",
      "\n",
      "\n",
      " 15%|█▌        | 3/20 [11:25<1:04:41, 228.33s/it]\n",
      "\n",
      "\n",
      "\n",
      "\n",
      " 20%|██        | 4/20 [15:03<1:00:03, 225.19s/it]\n",
      "\n",
      "\n",
      "\n",
      "\n",
      " 25%|██▌       | 5/20 [18:41<55:47, 223.14s/it]  \n",
      "\n",
      "\n",
      "\n",
      "\n",
      " 30%|███       | 6/20 [22:19<51:40, 221.45s/it]\n",
      "\n",
      "\n",
      "\n",
      "\n",
      " 35%|███▌      | 7/20 [25:50<47:19, 218.46s/it]\n",
      "\n",
      "\n",
      "\n",
      "\n",
      " 40%|████      | 8/20 [29:36<44:06, 220.51s/it]\n",
      "\n",
      "\n",
      "\n",
      "\n",
      " 45%|████▌     | 9/20 [33:17<40:26, 220.63s/it]\n",
      "\n",
      "\n",
      "\n",
      "\n",
      " 50%|█████     | 10/20 [36:55<36:38, 219.88s/it]\n",
      "\n",
      "\n",
      "\n",
      "\n",
      " 55%|█████▌    | 11/20 [40:37<33:04, 220.55s/it]\n",
      "\n",
      "\n",
      "\n",
      "\n",
      " 60%|██████    | 12/20 [44:32<29:58, 224.80s/it]\n",
      "\n",
      "\n",
      "\n",
      "\n",
      " 65%|██████▌   | 13/20 [48:24<26:29, 227.02s/it]\n",
      "\n",
      "\n",
      "\n",
      "\n",
      " 70%|███████   | 14/20 [52:19<22:56, 229.35s/it]\n",
      "\n",
      "\n",
      "\n",
      "\n",
      " 75%|███████▌  | 15/20 [56:11<19:11, 230.24s/it]\n",
      "\n",
      "\n",
      "\n",
      "\n",
      " 80%|████████  | 16/20 [59:32<14:45, 221.47s/it]\n",
      "\n",
      "\n",
      "\n",
      "\n",
      " 85%|████████▌ | 17/20 [1:02:59<10:51, 217.11s/it]\n",
      "\n",
      "\n",
      "\n",
      "\n",
      " 90%|█████████ | 18/20 [1:06:17<07:02, 211.43s/it]\n",
      "\n",
      "\n",
      "\n",
      "\n",
      " 95%|█████████▌| 19/20 [1:09:34<03:27, 207.05s/it]\n",
      "\n",
      "\n",
      "\n",
      "\n",
      "100%|██████████| 20/20 [1:13:10<00:00, 209.85s/it]"
     ]
    }
   ],
   "source": [
    "f1 = find_average_complexity(20, 150)"
   ]
  },
  {
   "cell_type": "code",
   "execution_count": 112,
   "metadata": {},
   "outputs": [
    {
     "data": {
      "image/png": "[encoded data removed]",
      "text/plain": [
       "<Figure size 432x288 with 1 Axes>"
      ]
     },
     "metadata": {
      "needs_background": "light"
     },
     "output_type": "display_data"
    }
   ],
   "source": [
    "plt.errorbar(range(5, 101), f1[0], f1[1], elinewidth=0.4, ls = '-', capsize=2)\n",
    "plt.xlabel('n')\n",
    "plt.ylabel('m')\n",
    "plt.title('Estimated sample complexity of Perceptron algorithm')\n",
    "plt.show()"
   ]
  },
  {
   "cell_type": "markdown",
   "metadata": {},
   "source": [
    "## Winnow algorithm "
   ]
  },
  {
   "cell_type": "code",
   "execution_count": 4,
   "metadata": {},
   "outputs": [],
   "source": [
    "def winnow(xs,ys):\n",
    "    \n",
    "    m,n = np.shape(xs)\n",
    "    w = np.ones(n)\n",
    "    \n",
    "    for t in range(m):\n",
    "        x_ = xs[t,:]\n",
    "        y_ = ys[t]\n",
    "        if (np.dot(w,x_) < n):\n",
    "            y_hat = 0\n",
    "        else:\n",
    "            y_hat = 1\n",
    "        \n",
    "        if (y_ != y_hat):\n",
    "            w = w*2**((y_-y_hat)*x_)\n",
    "            \n",
    "    return w"
   ]
  },
  {
   "cell_type": "code",
   "execution_count": 5,
   "metadata": {},
   "outputs": [],
   "source": [
    "# find average generalisation error\n",
    "\n",
    "def find_mean_gen_error_winnow(m,n, number_of_runs, num_of_test_points):\n",
    "    \n",
    "    gen_error_for_each_run = np.zeros(number_of_runs)\n",
    "    for r in range(number_of_runs):\n",
    "        trainxs, trainys = sample_data_winnow(m,n)\n",
    "        testxs, testys = sample_data_winnow(num_of_test_points,n)\n",
    "    \n",
    "        w = winnow(trainxs, trainys)\n",
    "        mistakes = 0\n",
    "        \n",
    "        for i in range(num_of_test_points):\n",
    "            x_ = testxs[i,:]\n",
    "            y_ = testys[i]\n",
    "            \n",
    "            if (np.dot(w,x_) < n):\n",
    "                y_pred = 0\n",
    "            else:\n",
    "                y_pred = 1\n",
    "        \n",
    "            if (y_ != y_pred):\n",
    "                mistakes += 1\n",
    "            \n",
    "        gen_error_for_each_run[r] = mistakes/num_of_test_points       #not 2^n because we are only using a subset not every possible case\n",
    "        #print(gen_error_for_each_run[r])\n",
    "        \n",
    "    return 100*np.mean(gen_error_for_each_run)\n",
    "               "
   ]
  },
  {
   "cell_type": "code",
   "execution_count": 6,
   "metadata": {},
   "outputs": [],
   "source": [
    "def find_complexity_winnow(number_of_runs,num_of_test_points, range_n):\n",
    "    \n",
    "    complexity_for_each_n = np.zeros(np.size(range_n))\n",
    "    count = 0\n",
    "    delta = 0.1\n",
    "    for n in range_n:\n",
    "        m = 1\n",
    "        gen_error = find_mean_gen_error_winnow(m,n,number_of_runs,num_of_test_points)\n",
    "        \n",
    "        while (gen_error > 10):\n",
    "            m += 1\n",
    "            gen_error = find_mean_gen_error_winnow(m,n,number_of_runs,num_of_test_points) #+ bound_constant(num_of_test_points, delta)\n",
    "            \n",
    "        complexity_for_each_n[count] = m\n",
    "        count += 1\n",
    "        \n",
    "    return complexity_for_each_n"
   ]
  },
  {
   "cell_type": "code",
   "execution_count": 12,
   "metadata": {},
   "outputs": [],
   "source": [
    "def find_average_complexity_winnow(n_runs, n_test):\n",
    "    \n",
    "    range_n = range(5, 101)\n",
    "    complexity_list = np.zeros(shape=(n_runs, np.size(range_n)))\n",
    "    \n",
    "    for r in tqdm(range(n_runs)):\n",
    "        f = find_complexity_winnow(8, n_test, range_n)\n",
    "        complexity_list[r,:] = f\n",
    "        \n",
    "    return np.mean(complexity_list, axis = 0), np.std(complexity_list, axis = 0)"
   ]
  },
  {
   "cell_type": "code",
   "execution_count": 13,
   "metadata": {},
   "outputs": [
    {
     "name": "stderr",
     "output_type": "stream",
     "text": [
      "\n",
      "\n",
      "\n",
      "  0%|          | 0/20 [00:00<?, ?it/s]\u001b[A\u001b[A\u001b[A\n",
      "\n",
      "\n",
      "  5%|▌         | 1/20 [00:59<18:41, 59.02s/it]\u001b[A\u001b[A\u001b[A\n",
      "\n",
      "\n",
      " 10%|█         | 2/20 [01:58<17:45, 59.17s/it]\u001b[A\u001b[A\u001b[A\n",
      "\n",
      "\n",
      " 15%|█▌        | 3/20 [03:04<17:21, 61.25s/it]\u001b[A\u001b[A\u001b[A\n",
      "\n",
      "\n",
      " 20%|██        | 4/20 [04:05<16:19, 61.20s/it]\u001b[A\u001b[A\u001b[A\n",
      "\n",
      "\n",
      " 25%|██▌       | 5/20 [05:12<15:44, 62.96s/it]\u001b[A\u001b[A\u001b[A\n",
      "\n",
      "\n",
      " 30%|███       | 6/20 [06:13<14:33, 62.36s/it]\u001b[A\u001b[A\u001b[A\n",
      "\n",
      "\n",
      " 35%|███▌      | 7/20 [07:13<13:18, 61.44s/it]\u001b[A\u001b[A\u001b[A\n",
      "\n",
      "\n",
      " 40%|████      | 8/20 [08:17<12:28, 62.40s/it]\u001b[A\u001b[A\u001b[A\n",
      "\n",
      "\n",
      " 45%|████▌     | 9/20 [09:26<11:47, 64.35s/it]\u001b[A\u001b[A\u001b[A\n",
      "\n",
      "\n",
      " 50%|█████     | 10/20 [10:35<10:56, 65.64s/it]\u001b[A\u001b[A\u001b[A\n",
      "\n",
      "\n",
      " 55%|█████▌    | 11/20 [11:50<10:16, 68.52s/it]\u001b[A\u001b[A\u001b[A\n",
      "\n",
      "\n",
      " 60%|██████    | 12/20 [12:48<08:43, 65.43s/it]\u001b[A\u001b[A\u001b[A\n",
      "\n",
      "\n",
      " 65%|██████▌   | 13/20 [13:49<07:27, 63.94s/it]\u001b[A\u001b[A\u001b[A\n",
      "\n",
      "\n",
      " 70%|███████   | 14/20 [14:48<06:15, 62.55s/it]\u001b[A\u001b[A\u001b[A\n",
      "\n",
      "\n",
      " 75%|███████▌  | 15/20 [15:54<05:18, 63.62s/it]\u001b[A\u001b[A\u001b[A\n",
      "\n",
      "\n",
      " 80%|████████  | 16/20 [16:54<04:09, 62.43s/it]\u001b[A\u001b[A\u001b[A\n",
      "\n",
      "\n",
      " 85%|████████▌ | 17/20 [17:54<03:05, 61.75s/it]\u001b[A\u001b[A\u001b[A\n",
      "\n",
      "\n",
      " 90%|█████████ | 18/20 [18:55<02:03, 61.61s/it]\u001b[A\u001b[A\u001b[A\n",
      "\n",
      "\n",
      " 95%|█████████▌| 19/20 [20:03<01:03, 63.57s/it]\u001b[A\u001b[A\u001b[A\n",
      "\n",
      "\n",
      "100%|██████████| 20/20 [21:02<00:00, 62.02s/it]\u001b[A\u001b[A\u001b[A\n",
      "\n",
      "\n",
      "\u001b[A\u001b[A\u001b[A"
     ]
    }
   ],
   "source": [
    "f2 = find_average_complexity_winnow(20,150)"
   ]
  },
  {
   "cell_type": "code",
   "execution_count": 14,
   "metadata": {},
   "outputs": [
    {
     "data": {
      "image/png": "[encoded data removed]",
      "text/plain": [
       "<Figure size 432x288 with 1 Axes>"
      ]
     },
     "metadata": {
      "needs_background": "light"
     },
     "output_type": "display_data"
    }
   ],
   "source": [
    "plt.errorbar(range(5, 101), f2[0], f2[1], elinewidth=0.4, ls = '-', capsize=2)\n",
    "plt.xlabel('n')\n",
    "plt.ylabel('m')\n",
    "plt.title('Estimated sample complexity of Winnow algorithm')\n",
    "plt.show()"
   ]
  },
  {
   "cell_type": "code",
   "execution_count": 29,
   "metadata": {},
   "outputs": [
    {
     "data": {
      "image/png": "[encoded data removed]",
      "text/plain": [
       "<Figure size 432x288 with 1 Axes>"
      ]
     },
     "metadata": {
      "needs_background": "light"
     },
     "output_type": "display_data"
    }
   ],
   "source": [
    "x = [i for i in range(5,101,1)]\n",
    "y = [8.5*np.log(i) for i in range(5,101,1)]\n",
    "z = [5.5*np.log(i) for i in range(5,101,1)]\n",
    "w = [6.75*np.log(i) for i in range(5,101,1)]\n",
    "\n",
    "plt.errorbar(range(5, 101), f2[0], f2[1], elinewidth=0.4, ls = '-', capsize=2, label='Winnow')\n",
    "plt.plot(x,y,label='m = 8.5log(n)')\n",
    "plt.plot(x,z,label='m = 5.5log(n)')\n",
    "plt.plot(x,w,label='m = 6.75log(n)')\n",
    "plt.legend()\n",
    "plt.xlabel('n')\n",
    "plt.ylabel('m')\n",
    "plt.title('Estimated sample complexity of Winnow and logarithmic function plot')\n",
    "plt.show()"
   ]
  },
  {
   "cell_type": "markdown",
   "metadata": {},
   "source": [
    "## Least squares "
   ]
  },
  {
   "cell_type": "code",
   "execution_count": 48,
   "metadata": {},
   "outputs": [],
   "source": [
    "# find average generalisation error\n",
    "\n",
    "def find_mean_gen_error_ls(m,n,number_of_runs,num_of_test_points):\n",
    "    \n",
    "    gen_error_for_each_run = np.zeros(number_of_runs)\n",
    "    for r in range(number_of_runs):\n",
    "        trainxs, trainys = sample_data(m,n)\n",
    "        testxs, testys = sample_data(num_of_test_points,n)\n",
    "    \n",
    "        w = np.linalg.pinv(trainxs) @ trainys        # regression vector\n",
    "        mistakes = 0\n",
    "        \n",
    "        for i in range(num_of_test_points):\n",
    "            x_ = testxs[i,:]\n",
    "            y_ = testys[i]\n",
    "            \n",
    "            y_pred = np.sign(np.dot(w,x_))\n",
    "\n",
    "            if ((y_*y_pred) <= 0):\n",
    "                mistakes += 1\n",
    "            \n",
    "        gen_error_for_each_run[r] = mistakes/num_of_test_points     #not 2^n because we are only using a subset not every possible case\n",
    "        \n",
    "    return 100*np.mean(gen_error_for_each_run)"
   ]
  },
  {
   "cell_type": "code",
   "execution_count": 53,
   "metadata": {},
   "outputs": [],
   "source": [
    "def find_complexity_ls(number_of_runs,num_of_test_points, range_n):\n",
    "\n",
    "    complexity_for_each_n = np.zeros(np.size(range_n))\n",
    "    count = 0\n",
    "    delta = 0.1\n",
    "    for n in (range_n):\n",
    "        m = 1\n",
    "        gen_error = find_mean_gen_error_ls(m,n,number_of_runs,num_of_test_points)\n",
    "        \n",
    "        while (gen_error > 10):\n",
    "            m += 1\n",
    "            gen_error = find_mean_gen_error_ls(m,n,number_of_runs,num_of_test_points) #+ bound_constant(num_of_test_points, delta)\n",
    "            \n",
    "        complexity_for_each_n[count] = m\n",
    "        count += 1\n",
    "        \n",
    "    return complexity_for_each_n"
   ]
  },
  {
   "cell_type": "code",
   "execution_count": 91,
   "metadata": {},
   "outputs": [],
   "source": [
    "def find_average_complexity_ls(n_runs, n_test):\n",
    "    \n",
    "    range_n = range(5, 101)\n",
    "    complexity_list = np.zeros(shape=(n_runs, np.size(range_n)))\n",
    "    \n",
    "    for r in tqdm(range(n_runs)):\n",
    "        f3 = find_complexity_ls(4, n_test, range_n)\n",
    "        complexity_list[r,:] = f3\n",
    "        \n",
    "    return np.mean(complexity_list, axis = 0), np.std(complexity_list, axis = 0)"
   ]
  },
  {
   "cell_type": "code",
   "execution_count": 92,
   "metadata": {},
   "outputs": [
    {
     "name": "stderr",
     "output_type": "stream",
     "text": [
      "\n",
      "\n",
      "\n",
      "\n",
      "  0%|          | 0/20 [00:00<?, ?it/s]\n",
      "\n",
      "\n",
      "\n",
      "  5%|▌         | 1/20 [00:52<16:43, 52.79s/it]\n",
      "\n",
      "\n",
      "\n",
      " 10%|█         | 2/20 [01:54<16:36, 55.34s/it]\n",
      "\n",
      "\n",
      "\n",
      " 15%|█▌        | 3/20 [02:47<15:29, 54.67s/it]\n",
      "\n",
      "\n",
      "\n",
      " 20%|██        | 4/20 [03:40<14:28, 54.28s/it]\n",
      "\n",
      "\n",
      "\n",
      " 25%|██▌       | 5/20 [04:32<13:22, 53.48s/it]\n",
      "\n",
      "\n",
      "\n",
      " 30%|███       | 6/20 [05:25<12:27, 53.36s/it]\n",
      "\n",
      "\n",
      "\n",
      " 35%|███▌      | 7/20 [06:18<11:32, 53.29s/it]\n",
      "\n",
      "\n",
      "\n",
      " 40%|████      | 8/20 [07:14<10:48, 54.08s/it]\n",
      "\n",
      "\n",
      "\n",
      " 45%|████▌     | 9/20 [08:10<10:00, 54.63s/it]\n",
      "\n",
      "\n",
      "\n",
      " 50%|█████     | 10/20 [09:05<09:07, 54.79s/it]\n",
      "\n",
      "\n",
      "\n",
      " 55%|█████▌    | 11/20 [09:59<08:11, 54.61s/it]\n",
      "\n",
      "\n",
      "\n",
      " 60%|██████    | 12/20 [10:59<07:29, 56.24s/it]\n",
      "\n",
      "\n",
      "\n",
      " 65%|██████▌   | 13/20 [11:59<06:41, 57.34s/it]\n",
      "\n",
      "\n",
      "\n",
      " 70%|███████   | 14/20 [12:55<05:42, 57.05s/it]\n",
      "\n",
      "\n",
      "\n",
      " 75%|███████▌  | 15/20 [13:51<04:42, 56.51s/it]\n",
      "\n",
      "\n",
      "\n",
      " 80%|████████  | 16/20 [14:46<03:45, 56.27s/it]\n",
      "\n",
      "\n",
      "\n",
      " 85%|████████▌ | 17/20 [15:42<02:48, 56.18s/it]\n",
      "\n",
      "\n",
      "\n",
      " 90%|█████████ | 18/20 [16:37<01:51, 55.73s/it]\n",
      "\n",
      "\n",
      "\n",
      " 95%|█████████▌| 19/20 [17:33<00:55, 55.68s/it]\n",
      "\n",
      "\n",
      "\n",
      "100%|██████████| 20/20 [18:28<00:00, 55.70s/it]"
     ]
    }
   ],
   "source": [
    "f3 = find_average_complexity_ls(20,80)"
   ]
  },
  {
   "cell_type": "code",
   "execution_count": 93,
   "metadata": {},
   "outputs": [
    {
     "data": {
      "image/png": "[encoded data removed]",
      "text/plain": [
       "<Figure size 432x288 with 1 Axes>"
      ]
     },
     "metadata": {
      "needs_background": "light"
     },
     "output_type": "display_data"
    }
   ],
   "source": [
    "plt.errorbar(range(5, 101), f3[0], f3[1], elinewidth=0.4, ls = '-', capsize=2)\n",
    "plt.xlabel('n')\n",
    "plt.ylabel('m')\n",
    "plt.title('Estimated sample complexity of Least Squares algorithm')\n",
    "plt.show()"
   ]
  },
  {
   "cell_type": "markdown",
   "metadata": {},
   "source": [
    "## 1-nearest neighbours "
   ]
  },
  {
   "cell_type": "code",
   "execution_count": 4,
   "metadata": {},
   "outputs": [],
   "source": [
    "from sklearn.metrics.pairwise import euclidean_distances"
   ]
  },
  {
   "cell_type": "code",
   "execution_count": 5,
   "metadata": {},
   "outputs": [],
   "source": [
    "# find average generalisation error\n",
    "\n",
    "def find_mean_gen_error_oneNN(m,n,number_of_runs,num_of_test_points):\n",
    "    \n",
    "    gen_error_for_each_run = np.zeros(number_of_runs)\n",
    "    for r in range(number_of_runs):\n",
    "        trainxs, trainys = sample_data(m,n)\n",
    "        testxs, testys = sample_data(num_of_test_points,n)\n",
    "    \n",
    "        mistakes = 0\n",
    "        #print('------- Run {} -------'.format(r+1)) \n",
    "        \n",
    "        for i in range(num_of_test_points):\n",
    "            x_ = testxs[i,:]\n",
    "            y_ = testys[i]\n",
    "            \n",
    "            distances = np.zeros(m)\n",
    "            #distances = euclidean_distances(x_.reshape(1,-1),trainxs)\n",
    "           \n",
    "            for j in range(m):\n",
    "                distances[j] = np.linalg.norm(x_- trainxs[j,:], ord=1)\n",
    "                #distances[j] = euclidean_distance(x_,trainxs[j,:])\n",
    "            \n",
    "            #print(distances)\n",
    "                \n",
    "            y_pred = trainys[np.argmin(distances)]       # nearest neighbour\n",
    "\n",
    "            if ((y_*y_pred) <= 0):\n",
    "                mistakes += 1\n",
    "            \n",
    "        gen_error_for_each_run[r] = mistakes/num_of_test_points     #not 2^n because we are only using a subset not every possible case\n",
    "        \n",
    "    return np.mean(gen_error_for_each_run)"
   ]
  },
  {
   "cell_type": "code",
   "execution_count": 7,
   "metadata": {},
   "outputs": [],
   "source": [
    "def find_complexity_oneNN(number_of_runs,num_of_test_points, range_n):\n",
    "    \n",
    "    complexity_for_each_n = np.zeros(np.size(range_n))\n",
    "    count = 0\n",
    "    m_list = []\n",
    "    m = 2\n",
    "    for n in tqdm(range_n):\n",
    "        m = 3*m//4\n",
    "        gen_error = find_mean_gen_error_oneNN(m,n,number_of_runs,num_of_test_points)\n",
    "\n",
    "        while (gen_error > 0.1):\n",
    "            m += 1\n",
    "            gen_error = find_mean_gen_error_oneNN(m,n,number_of_runs,num_of_test_points)\n",
    "            \n",
    "        complexity_for_each_n[count] = m\n",
    "\n",
    "        m_list.append(m)\n",
    "        plt.scatter(range_n[0:len(m_list)],m_list)\n",
    "        plt.xlabel('n')\n",
    "        plt.ylabel('m')\n",
    "        plt.title('Estimated sample complexity of 1 Nearest Neighbours')\n",
    "        plt.show()\n",
    "        \n",
    "        count += 1\n",
    "        \n",
    "    return complexity_for_each_n\n",
    "    \n",
    "def find_average_complexity_oneNN(n_runs, n_test):\n",
    "    \n",
    "    range_n = range(5, 50)\n",
    "    complexity_list = np.zeros(shape=(n_runs, np.size(range_n)))\n",
    "    \n",
    "    for r in tqdm(range(n_runs)):\n",
    "        f2 = find_complexity_oneNN(5, n_test, range_n)\n",
    "        complexity_list[r,:] = f2\n",
    "        \n",
    "    return np.mean(complexity_list, axis = 0), np.std(complexity_list, axis = 0)\n",
    "    \n"
   ]
  },
  {
   "cell_type": "code",
   "execution_count": null,
   "metadata": {},
   "outputs": [],
   "source": [
    "f4 = find_average_complexity_oneNN(8,50)"
   ]
  },
  {
   "cell_type": "code",
   "execution_count": 38,
   "metadata": {},
   "outputs": [
    {
     "data": {
      "image/png": "[encoded data removed]",
      "text/plain": [
       "<Figure size 432x288 with 1 Axes>"
      ]
     },
     "metadata": {
      "needs_background": "light"
     },
     "output_type": "display_data"
    }
   ],
   "source": [
    "plt.errorbar(range(5, 50), f4[0], f4[1], elinewidth=0.4, ls = '-', capsize=2)\n",
    "plt.xlabel('n')\n",
    "plt.ylabel('m')\n",
    "plt.title('Estimated sample complexity of One Nearest Neighbours algorithm')\n",
    "plt.show()"
   ]
  },
  {
   "cell_type": "code",
   "execution_count": 59,
   "metadata": {},
   "outputs": [
    {
     "data": {
      "image/png": "[encoded data removed]",
      "text/plain": [
       "<Figure size 432x288 with 1 Axes>"
      ]
     },
     "metadata": {
      "needs_background": "light"
     },
     "output_type": "display_data"
    }
   ],
   "source": [
    "x = [i for i in range(5,40,1)]\n",
    "y = [2.5*(i**2) for i in range(5,40,1)]\n",
    "z = [1*(i**2) for i in range(5,40,1)]\n",
    "w = [0.3*(i**2) for i in range(5,40,1)]\n",
    "\n",
    "plt.errorbar(range(5, 40), f4[0], f4[1], elinewidth=0.4, ls = '-', capsize=2, label='1NN')\n",
    "plt.plot(x,y,label='m = 0.3n^2')\n",
    "plt.plot(x,z,label='m = n^2')\n",
    "plt.plot(x,w,label='m = 2.5n^2')\n",
    "plt.legend()\n",
    "plt.xlabel('n')\n",
    "plt.ylabel('m')\n",
    "plt.title('Estimated sample complexity of 1NN and quadratic function plot')\n",
    "plt.show()"
   ]
  }
 ],
 "metadata": {
  "kernelspec": {
   "display_name": "Python 3",
   "language": "python",
   "name": "python3"
  },
  "language_info": {
   "codemirror_mode": {
    "name": "ipython",
    "version": 3
   },
   "file_extension": ".py",
   "mimetype": "text/x-python",
   "name": "python",
   "nbconvert_exporter": "python",
   "pygments_lexer": "ipython3",
   "version": "3.7.0"
  }
 },
 "nbformat": 4,
 "nbformat_minor": 4
}
