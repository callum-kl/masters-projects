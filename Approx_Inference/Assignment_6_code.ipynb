{
 "cells": [
  {
   "cell_type": "code",
   "execution_count": 22,
   "metadata": {},
   "outputs": [],
   "source": [
    "import numpy as np\n",
    "import matplotlib.pyplot as plt\n",
    "from scipy.special import expit as sigmoid"
   ]
  },
  {
   "cell_type": "code",
   "execution_count": 41,
   "metadata": {},
   "outputs": [],
   "source": [
    "def loopyBP(X, mu, sigma, pie, lambda0, messages, maxsteps):\n",
    "\n",
    "    N, D = X.shape\n",
    "    K = mu.shape[1]\n",
    "    Lambda = lambda0.copy()\n",
    "    fs = []\n",
    "    eps = 1\n",
    "    step = 0\n",
    "    constant = 1e-15\n",
    "    messages_vectorise = messages.copy()\n",
    "\n",
    "    \"\"\"\n",
    "    bs is (NxK)\n",
    "    Ws is (NxKxK)\n",
    "    messages is (N, K, K)\n",
    "    \"\"\"\n",
    "    bs = np.log(pie/(1-pie)) + X @ mu/sigma**2 - np.diag(mu.T @ mu)/(2*sigma**2)\n",
    "    assert bs.shape == (N,K)\n",
    "\n",
    "    Ws = -(mu.T @ mu)/(sigma**2)\n",
    "\n",
    "    while abs(eps) > 1e-10 and  step < maxsteps:\n",
    "        \n",
    "        for i in range(K):\n",
    "\n",
    "            for j in range(i+1,K):\n",
    "                \n",
    "                    term_1 = bs[:,i] + np.sum(messages_vectorise[:,:,i], axis=1) - messages_vectorise[:,j,i]\n",
    "                    term_2 = term_1 + Ws[i,j]\n",
    "                    messages_vectorise[:,i,j] = np.log((1+np.exp(term_2))/(1+np.exp(term_1)))\n",
    "                    \n",
    "                    ### Messages j -> i\n",
    "                    term_1 = bs[:,j] + np.sum(messages_vectorise[:,:,j], axis=1) - messages_vectorise[:,i,j]\n",
    "                    term_2 = term_1 + Ws[i,j]\n",
    "                    messages_vectorise[:,j,i] = np.log((1+np.exp(term_2))/(1 + np.exp(term_1)))\n",
    "                    \n",
    "        Lambda = sigmoid(bs + np.sum(messages_vectorise, axis = 1))\n",
    "        assert Lambda.shape == (N, K)\n",
    "\n",
    "        f_ = compute_free_energy(X, mu, sigma, pie, Lambda, constant)\n",
    "\n",
    "        if(step > 0):\n",
    "            eps = f_ - fs[step - 1]\n",
    "        fs.append(f_)\n",
    "        step += 1\n",
    "    \n",
    "    return Lambda, fs[-1], fs, messages_vectorise"
   ]
  },
  {
   "cell_type": "code",
   "execution_count": 42,
   "metadata": {},
   "outputs": [],
   "source": [
    "def compute_free_energy(X, mu, sigma, pie, Lambda, constant):\n",
    "    Lambda[np.isclose(Lambda, 0)] = constant\n",
    "    Lambda[np.isclose(Lambda, 1)] = 1 - constant\n",
    "    term_1 = np.sum(np.multiply(Lambda, np.log(pie/Lambda)))\n",
    "    term_2 = np.sum(np.multiply((1-Lambda), np.log((1-pie)/(1-Lambda))))\n",
    "    term_3 = -N*D*np.log(sigma)\n",
    "    weights = (X - Lambda @ mu.T)\n",
    "    term_4 = -np.trace((2*sigma**2)**-1*(weights @ weights.T))\n",
    "    term_5 = -np.sum((2*sigma**2)**-1*(Lambda - Lambda**2) @ np.diag(mu.T @ mu))\n",
    "    term_6 = -N*(D/2)*np.log(2*np.pi)\n",
    "    f_ = np.sum(term_1 + term_2 + term_3 + term_4 + term_5 + term_6)\n",
    "    \n",
    "    return f_"
   ]
  },
  {
   "cell_type": "code",
   "execution_count": 43,
   "metadata": {},
   "outputs": [],
   "source": [
    "def m_step(X, ES, ESS):\n",
    "    \"\"\"\n",
    "    mu, sigma, pie = MStep(X,ES,ESS)\n",
    "\n",
    "    Inputs:\n",
    "    -----------------\n",
    "           X: shape (N, D) data matrix\n",
    "          ES: shape (N, K) E_q[s]\n",
    "         ESS: shape (K, K) sum over data points of E_q[ss'] (N, K, K)\n",
    "                           if E_q[ss'] is provided, the sum over N is done for you.\n",
    "\n",
    "    Outputs:\n",
    "    --------\n",
    "          mu: shape (D, K) matrix of means in p(y|{s_i},mu,sigma)\n",
    "       sigma: shape (,)    standard deviation in same\n",
    "         pie: shape (1, K) vector of parameters specifying generative distribution for s\n",
    "    \"\"\"\n",
    "    N, D = X.shape\n",
    "    if ES.shape[0] != N:\n",
    "        raise TypeError('ES must have the same number of rows as X')\n",
    "    K = ES.shape[1]\n",
    "    if ESS.shape == (N, K, K):\n",
    "        ESS = np.sum(ESS, axis=0)\n",
    "    if ESS.shape != (K, K):\n",
    "        raise TypeError('ESS must be square and have the same number of columns as ES')\n",
    "\n",
    "    mu = np.dot(np.dot(np.linalg.inv(ESS), ES.T), X).T\n",
    "    sigma = np.sqrt((np.trace(np.dot(X.T, X)) + np.trace(np.dot(np.dot(mu.T, mu), ESS))\n",
    "                     - 2 * np.trace(np.dot(np.dot(ES.T, X), mu))) / (N * D))\n",
    "    pie = np.mean(ES, axis=0, keepdims=True)\n",
    "    \n",
    "    return mu, sigma, pie"
   ]
  },
  {
   "cell_type": "code",
   "execution_count": 44,
   "metadata": {},
   "outputs": [],
   "source": [
    "def compute_ESS(Lambda):\n",
    "    \"\"\"\n",
    "    Computes E_q[ss'] (N, K, K), using Lambda matrix.\n",
    "    \"\"\"\n",
    "    \n",
    "    N, K = Lambda.shape\n",
    "    ESS = np.zeros(shape=(N,K,K))\n",
    "    \n",
    "    for n in range(N):\n",
    "        \n",
    "        lambda_n = Lambda[n,:]\n",
    "        \n",
    "        for k_1 in range(K):\n",
    "            \n",
    "            for k_2 in range(K):\n",
    "                \n",
    "                ESS[n,k_1,k_2] = lambda_n[k_1]*lambda_n[k_2]\n",
    "        \n",
    "        diag = lambda_n - lambda_n**2\n",
    "                \n",
    "        ESS[n,:,:] += np.diag(diag)\n",
    "    \n",
    "    return ESS"
   ]
  },
  {
   "cell_type": "code",
   "execution_count": 63,
   "metadata": {},
   "outputs": [],
   "source": [
    "def learn_bin_factors(X, K, iterations, maxsteps):\n",
    "    \n",
    "    N, D = X.shape\n",
    "    Lambda, mu, pie, sigma, messages = init_params(N,D,K)\n",
    "    free_energies = []\n",
    "    \n",
    "    for cIter in range(iterations):\n",
    "        \n",
    "        messages = 0.25 + np.random.rand(N,K,K)*0.5\n",
    "        for i in range(K):\n",
    "            messages[:,i,i] = 0.0\n",
    "            \n",
    "        Lambda, f, f_l, m_ = loopyBP(X, mu, sigma, pie, Lambda, messages, maxsteps)\n",
    "        free_energies.append(f)\n",
    "        print(f)\n",
    "        ESS = compute_ESS(Lambda)\n",
    "    \n",
    "        mu, sigma, pie = m_step(X, Lambda, ESS)\n",
    "        \n",
    "    return mu, sigma, pie, Lambda, free_energies"
   ]
  },
  {
   "cell_type": "code",
   "execution_count": 64,
   "metadata": {},
   "outputs": [],
   "source": [
    "def init_params(N, D, K):\n",
    "    Lambda = 0.25 + np.random.rand(N,K)/2.0\n",
    "    mu = 0.25 + np.random.rand(D,K)/2.0\n",
    "    pie = 0.25 + np.random.rand(1,K)/2.0\n",
    "    sigma = 1\n",
    "    messages = 0.25 + np.random.rand(N,K,K)*0.5\n",
    "    for i in range(K):\n",
    "        messages[:,i,i] = 0.0\n",
    "    \n",
    "    return Lambda, mu, pie, sigma, messages"
   ]
  },
  {
   "cell_type": "code",
   "execution_count": 74,
   "metadata": {},
   "outputs": [
    {
     "data": {
      "image/png": "[encoded data removed]",
      "text/plain": [
       "<Figure size 432x288 with 8 Axes>"
      ]
     },
     "metadata": {
      "needs_background": "light"
     },
     "output_type": "display_data"
    }
   ],
   "source": [
    "N=400  # number of data points - you can increase this if you want to\n",
    "       # learn better features (but it will take longer).\n",
    "D=16   # dimensionality of the data\n",
    "# Define the basic shapes of the features\n",
    "\n",
    "np.random.seed(0)\n",
    "\n",
    "m1 = [0, 0, 1, 0,\n",
    "      0, 1, 1, 1,\n",
    "      0, 0, 1, 0,\n",
    "      0, 0, 0, 0]\n",
    "\n",
    "m2 = [0, 1, 0, 0,\n",
    "      0, 1, 0, 0,\n",
    "      0, 1, 0, 0,\n",
    "      0, 1, 0, 0]\n",
    "\n",
    "m3 = [1, 1, 1, 1,\n",
    "      0, 0, 0, 0,\n",
    "      0, 0, 0, 0,\n",
    "      0, 0, 0, 0]\n",
    "\n",
    "m4 = [1, 0, 0, 0,\n",
    "      0, 1, 0, 0,\n",
    "      0, 0, 1, 0,\n",
    "      0, 0, 0, 1] \n",
    "\n",
    "m5 = [0, 0, 0, 0,\n",
    "      0, 0, 0, 0,\n",
    "      1, 1, 0, 0,\n",
    "      1, 1, 0, 0] \n",
    "\n",
    "m6 = [1, 1, 1, 1,\n",
    "      1, 0, 0, 1,\n",
    "      1, 0, 0, 1,\n",
    "      1, 1, 1, 1] \n",
    "\n",
    "m7 = [0, 0, 0, 0,\n",
    "      0, 1, 1, 0,\n",
    "      0, 1, 1, 0,\n",
    "      0, 0, 0, 0]\n",
    "\n",
    "m8 = [0, 0, 0, 1,\n",
    "      0, 0, 0, 1,\n",
    "      0, 0, 0, 1,\n",
    "      0, 0, 0, 1]\n",
    "\n",
    "nfeat = 8 # number of features\n",
    "rr = 0.5 + np.random.rand(nfeat, 1) * 0.5 # weight of each feature between 0.5 and 1\n",
    "mut = np.array([rr[0] * m1, rr[1] * m2, rr[2] * m3, rr[3] * m4, rr[4] * m5,\n",
    "                rr[5] * m6, rr[6] * m7, rr[7] * m8])\n",
    "s = np.random.rand(N, nfeat) < 0.3 # each feature occurs with prob 0.3 independently \n",
    "\n",
    "# Generate Data - The Data is stored in Y\n",
    "Y = np.dot(s, mut) + np.random.randn(N, D) * 0.1 # some Gaussian noise is added \n",
    "\n",
    "nrows = 13\n",
    "for k in range(8):\n",
    "    plt.subplot(4, 4, k + 1)\n",
    "    plt.imshow(np.reshape(Y[k], (4, 4)), cmap=plt.gray(), interpolation='none')\n",
    "    plt.axis('off')\n",
    "\n",
    "plt.show()"
   ]
  },
  {
   "cell_type": "code",
   "execution_count": 75,
   "metadata": {
    "scrolled": true
   },
   "outputs": [
    {
     "name": "stdout",
     "output_type": "stream",
     "text": [
      "-11337.06889753012\n",
      "-5295.719075750824\n",
      "-4813.2718656623765\n",
      "-4543.844975509169\n",
      "-4339.974724202575\n",
      "-4066.25554064406\n",
      "-3828.6763218126434\n",
      "-3690.425781717651\n",
      "-3587.6441659406823\n",
      "-3452.169776565326\n",
      "-3217.5570622036175\n",
      "-3094.0241012206197\n",
      "-3034.4096165345964\n",
      "-2980.8261777413436\n",
      "-2774.1761938898217\n",
      "-2749.8864455434095\n",
      "-2727.0740027359598\n",
      "-2632.2605751688993\n",
      "-2318.2004853273083\n",
      "-2205.6734125646444\n",
      "-2090.941566970578\n",
      "-2100.5826253573123\n",
      "-2199.7807583155754\n",
      "-2064.7124907240664\n",
      "-2086.7478596695237\n",
      "-2116.5812500572497\n",
      "-2225.0817906824495\n",
      "-2146.3841586845274\n",
      "-2114.579992272576\n",
      "-2126.9598847902143\n",
      "-2175.3726806268005\n",
      "-2117.822359636195\n",
      "-1990.601425873891\n",
      "-2052.4979541652897\n",
      "-2041.7898845818563\n",
      "-1982.2986562424508\n",
      "-2158.6494334604567\n",
      "-2010.8660946382693\n",
      "-2045.0225449433492\n",
      "-2056.818034472874\n",
      "-2114.7934134605844\n",
      "-2124.097152854015\n",
      "-2085.0850935123544\n",
      "-2070.9309084194474\n",
      "-2201.178254619543\n",
      "-2118.786787676726\n",
      "-2044.2656312279719\n",
      "-2165.908402310809\n",
      "-2101.0107949290373\n",
      "-2144.8855590013754\n",
      "-2001.4873221123216\n",
      "-2147.289170945011\n",
      "-1968.8142517405836\n",
      "-2002.6518387512415\n",
      "-2112.23932203564\n",
      "-2080.4900701891866\n",
      "-2013.316578516151\n",
      "-2155.42268926716\n",
      "-2039.5725467843458\n",
      "-2136.9758472950475\n"
     ]
    }
   ],
   "source": [
    "K = 8\n",
    "iterations = 60\n",
    "maxsteps = 100\n",
    "\n",
    "mu, sig, pie, lambda_, free_energies = learn_bin_factors(Y, K, iterations, maxsteps)"
   ]
  },
  {
   "cell_type": "code",
   "execution_count": 76,
   "metadata": {},
   "outputs": [
    {
     "data": {
      "image/png": "[encoded data removed]",
      "text/plain": [
       "<Figure size 432x288 with 8 Axes>"
      ]
     },
     "metadata": {
      "needs_background": "light"
     },
     "output_type": "display_data"
    }
   ],
   "source": [
    "for k in range(K):\n",
    "    plt.subplot(4, 4, k + 1)\n",
    "    plt.imshow(np.reshape(mu[:,k], (4, 4)), cmap=plt.gray(), interpolation='none')\n",
    "    plt.axis('off')\n",
    "plt.show()"
   ]
  },
  {
   "cell_type": "code",
   "execution_count": 77,
   "metadata": {},
   "outputs": [
    {
     "data": {
      "image/png": "[encoded data removed]",
      "text/plain": [
       "<Figure size 432x288 with 1 Axes>"
      ]
     },
     "metadata": {
      "needs_background": "light"
     },
     "output_type": "display_data"
    }
   ],
   "source": [
    "plt.plot(free_energies)\n",
    "plt.show()"
   ]
  },
  {
   "cell_type": "code",
   "execution_count": null,
   "metadata": {},
   "outputs": [],
   "source": []
  }
 ],
 "metadata": {
  "kernelspec": {
   "display_name": "Python 3",
   "language": "python",
   "name": "python3"
  },
  "language_info": {
   "codemirror_mode": {
    "name": "ipython",
    "version": 3
   },
   "file_extension": ".py",
   "mimetype": "text/x-python",
   "name": "python",
   "nbconvert_exporter": "python",
   "pygments_lexer": "ipython3",
   "version": "3.7.1"
  }
 },
 "nbformat": 4,
 "nbformat_minor": 4
}
